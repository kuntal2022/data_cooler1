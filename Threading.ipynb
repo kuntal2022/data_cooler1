{
 "cells": [
  {
   "cell_type": "markdown",
   "id": "9a6a45cb",
   "metadata": {},
   "source": [
    "# 1). hat is multithreading in python? why is it used? Name the module used to handle threads in python\n",
    "\n",
    "\n",
    "# ANS\n",
    "\n",
    "* We can do multithreading in Python that is, executing multiple parts of the program at a time using the threading module. \n",
    "* It helps to optimize the resource utiliztaion maily the time and helps to utilise a core to run multiple process in same time\n",
    "* threading is the name for the module\n",
    "\n"
   ]
  },
  {
   "cell_type": "code",
   "execution_count": 1,
   "id": "13678e24",
   "metadata": {},
   "outputs": [],
   "source": [
    "import threading"
   ]
  },
  {
   "cell_type": "markdown",
   "id": "3714e8b9",
   "metadata": {},
   "source": [
    "# 2). Why threading module used? write the use of the following functions (activeCount, currentThread,enumerate)\n",
    "\n",
    "# Ans:\n",
    "\n",
    "* Threading helps to optimize the resource utiliztaion maily the time and helps to utilise a core to run multiple process in same time.\n",
    "\n",
    "# activeCount():\n",
    "\n",
    "* active_count() is an inbuilt method of the threading module in Python. It is used to return the number of Thread objects that are active at any instant.\n"
   ]
  },
  {
   "cell_type": "code",
   "execution_count": 2,
   "id": "d4235fc7",
   "metadata": {},
   "outputs": [
    {
     "name": "stdout",
     "output_type": "stream",
     "text": [
      "Number of active threads in the starting: 6\n",
      "The active threads in the starting is 1 which is the main thread that executes till the program runs\n",
      "Number of active threads: 9\n",
      "Value by Thread 3: 3\n",
      "Number of active threads: 8\n",
      "Value by Thread 1: 1\n",
      "Number of active threads: 7\n",
      "Value by Thread 2: 2\n"
     ]
    }
   ],
   "source": [
    "#ex\n",
    "import time\n",
    "import threading\n",
    "\n",
    "def thread_1(i):\n",
    "    time.sleep(2)\n",
    "    print(\"Number of active threads:\", threading.active_count())\n",
    "    print('Value by Thread 1:', i)\n",
    "\n",
    "def thread_2(i):\n",
    "    time.sleep(5)\n",
    "    print(\"Number of active threads:\", threading.active_count())\n",
    "    print('Value by Thread 2:', i)\n",
    "    \n",
    "def thread_3(i):\n",
    "    print(\"Number of active threads:\", threading.active_count())\n",
    "    print(\"Value by Thread 3:\", i)\n",
    "    \n",
    "# Creating sample threads \n",
    "thread1 = threading.Thread(target=thread_1, args=(1,))\n",
    "thread2 = threading.Thread(target=thread_2, args=(2,))\n",
    "thread3 = threading.Thread(target=thread_3, args=(3,))\n",
    "\n",
    "print(\"Number of active threads in the starting:\", threading.active_count())\n",
    "print(\"The active threads in the starting is 1 which is the main thread that executes till the program runs\")\n",
    "\n",
    "# Starting the threads\n",
    "thread1.start()\n",
    "thread2.start()\n",
    "thread3.start()"
   ]
  },
  {
   "cell_type": "markdown",
   "id": "6a4d3e15",
   "metadata": {},
   "source": [
    "# currentThread()\n",
    "* current_thread() is an inbuilt method of the threading module in Python. It is used to return the current Thread object, which corresponds to the caller's thread of control."
   ]
  },
  {
   "cell_type": "code",
   "execution_count": 3,
   "id": "f2e08fd7",
   "metadata": {},
   "outputs": [
    {
     "name": "stdout",
     "output_type": "stream",
     "text": [
      "Active current thread right now: <_MainThread(MainThread, started 1748)>\n",
      "Active current thread right now: <Thread(Thread-10, started 11000)>\n",
      "Value by Thread 3: 3\n",
      "Active current thread right now: <Thread(Thread-8, started 7652)>\n",
      "Value by Thread 1: 1\n",
      "Active current thread right now: <Thread(Thread-9, started 12996)>\n",
      "Value by Thread 2: 2\n"
     ]
    }
   ],
   "source": [
    "#ex\n",
    "\n",
    "import time\n",
    "import threading\n",
    "\n",
    "def thread_1(i):\n",
    "    time.sleep(2)\n",
    "    print(\"Active current thread right now:\", (threading.current_thread()))\n",
    "    print('Value by Thread 1:', i)\n",
    "\n",
    "def thread_2(i):\n",
    "    time.sleep(5)\n",
    "    print(\"Active current thread right now:\", (threading.current_thread()))\n",
    "    print('Value by Thread 2:', i)\n",
    "    \n",
    "def thread_3(i):\n",
    "    print(\"Active current thread right now:\", (threading.current_thread()))\n",
    "    print(\"Value by Thread 3:\", i)\n",
    "    \n",
    "# Creating sample threads \n",
    "thread1 = threading.Thread(target=thread_1, args=(1,))\n",
    "thread2 = threading.Thread(target=thread_2, args=(2,))\n",
    "thread3 = threading.Thread(target=thread_3, args=(3,))\n",
    "\n",
    "print(\"Active current thread right now:\", (threading.current_thread()))\n",
    "#3 Initially it is the main thread that is active\n",
    "\n",
    "# Starting the threads\n",
    "thread1.start()\n",
    "thread2.start()\n",
    "thread3.start()"
   ]
  },
  {
   "cell_type": "markdown",
   "id": "011662e1",
   "metadata": {},
   "source": [
    "# enumerate()\n",
    "\n",
    "* Often, when dealing with iterators, we also get need to keep a count of iterations. Python eases the programmers’ task by providing a built-in function enumerate() for this task. Enumerate() method adds a counter to an iterable and returns it in a form of enumerating object. This enumerated object can then be used directly for loops or converted into a list of tuples using the list() function."
   ]
  },
  {
   "cell_type": "code",
   "execution_count": 7,
   "id": "f532d8bc",
   "metadata": {},
   "outputs": [
    {
     "name": "stdout",
     "output_type": "stream",
     "text": [
      "Return type: <class 'enumerate'>\n",
      "[(0, 'Married'), (1, 'Valentine'), (2, 'Single')]\n",
      "[(2, 'P'), (3, 'W'), (4, 'S')]\n"
     ]
    }
   ],
   "source": [
    "# Python program to illustrate enumerate function\n",
    "l1 = [\"Married\", \"Valentine\", \"Single\"]\n",
    "s1 = \"PWS\"\n",
    " \n",
    "# creating enumerate objects\n",
    "obj1 = enumerate(l1)\n",
    "obj2 = enumerate(s1)\n",
    " \n",
    "print (\"Return type:\", type(obj1))\n",
    "print (list(enumerate(l1)))\n",
    " \n",
    "# changing start index to 2 from 0\n",
    "print (list(enumerate(s1, 2)))"
   ]
  },
  {
   "cell_type": "code",
   "execution_count": null,
   "id": "72ddd104",
   "metadata": {},
   "outputs": [],
   "source": []
  },
  {
   "cell_type": "markdown",
   "id": "5705d6ef",
   "metadata": {},
   "source": [
    "# 3. Explain the following functions\n",
    "***( run (),\n",
    " start(),\n",
    " join(), \n",
    " isAlive)***\n",
    " \n",
    " \n",
    "# ANS\n",
    "\n",
    "* run()  − The run() method is the entry point for a thread.\n",
    "* start()  − The start() method starts a thread by calling the run method.\n",
    "* join([time])  − The join() waits for threads to terminate.\n",
    "* isAlive()  − The isAlive() method checks whether a thread is still executing."
   ]
  },
  {
   "cell_type": "markdown",
   "id": "02dd659b",
   "metadata": {},
   "source": [
    "# 4. rite a python program to create two threads. Thread one must print the list of squares and thread two must print the list of cubes\n",
    "\n",
    "\n",
    "# ANS"
   ]
  },
  {
   "cell_type": "code",
   "execution_count": 9,
   "id": "bae76269",
   "metadata": {},
   "outputs": [
    {
     "name": "stdout",
     "output_type": "stream",
     "text": [
      "Square: 100\n",
      "Cube: 1000\n"
     ]
    }
   ],
   "source": [
    " \n",
    " \n",
    "def print_cube(num):\n",
    "    # function to print cube of given num\n",
    "    print(\"Cube: {}\" .format(num * num * num))\n",
    " \n",
    " \n",
    "def print_square(num):\n",
    "    # function to print square of given num\n",
    "    print(\"Square: {}\" .format(num * num))\n",
    " \n",
    " \n",
    "if __name__ ==\"__main__\":\n",
    "    # creating thread\n",
    "    t1 = threading.Thread(target=print_square, args=(10,))\n",
    "    t2 = threading.Thread(target=print_cube, args=(10,))\n",
    " \n",
    "    # starting thread 1\n",
    "    t1.start()\n",
    "    # starting thread 2\n",
    "    t2.start()\n",
    " \n",
    "    # wait until thread 1 is completely executed\n",
    "    t1.join()\n",
    "    # wait until thread 2 is completely executed\n",
    "    t2.join()"
   ]
  },
  {
   "cell_type": "markdown",
   "id": "a3c6365d",
   "metadata": {},
   "source": [
    "# 5. State advantages and disadvantages of multithreading:\n",
    "\n",
    "\n",
    "# ANS\n",
    "\n",
    "#### Advantage:\n",
    "* i) Optimum useage of resourese\n",
    "* ii) Decrease the maintainance cost\n",
    "* iii) Helps to perform complex task\n",
    "\n",
    "\n",
    "#### Disadvantages:\n",
    "* i) Complex debugging and testing process\n",
    "* ii) Complex coding\n",
    "* iii) Unpredictable Result\n"
   ]
  },
  {
   "attachments": {
    "image.png": {
     "image/png": "[encoded data removed]"
    }
   },
   "cell_type": "markdown",
   "id": "f21c0481",
   "metadata": {},
   "source": [
    "# 6. Explain deadlocks and race conditions.\n",
    "\n",
    "# ANS:\n",
    "\n",
    "\n",
    "#### deadlocks\n",
    "* When two processes are waiting for each other directly or indirectly, it is called deadlock.\n",
    "\n",
    "![image.png](attachment:image.png)\n",
    "\n",
    "#### race\n",
    "* When two processes are competing with each other causing data corruption.\n",
    "\n"
   ]
  },
  {
   "cell_type": "code",
   "execution_count": null,
   "id": "3fc7316f",
   "metadata": {},
   "outputs": [],
   "source": []
  }
 ],
 "metadata": {
  "kernelspec": {
   "display_name": "Python 3 (ipykernel)",
   "language": "python",
   "name": "python3"
  },
  "language_info": {
   "codemirror_mode": {
    "name": "ipython",
    "version": 3
   },
   "file_extension": ".py",
   "mimetype": "text/x-python",
   "name": "python",
   "nbconvert_exporter": "python",
   "pygments_lexer": "ipython3",
   "version": "3.9.13"
  }
 },
 "nbformat": 4,
 "nbformat_minor": 5
}
